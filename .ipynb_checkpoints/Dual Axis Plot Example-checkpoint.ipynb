{
 "cells": [
  {
   "cell_type": "code",
   "execution_count": null,
   "metadata": {},
   "outputs": [],
   "source": [
    "#Dual Plot sample Code with Legend\n",
    "fig = plt.figure(figsize=(12, 6),dpi=100)\n",
    "ax1 = fig.add_subplot(111)\n",
    "ax1.plot(x,salt_var,'r',label=\"$(S'_v)^2$\")\n",
    "ax1.set_ylabel('$(g/kg)^{2}$', color='r',fontsize=20)\n",
    "ax1.set_xlabel('Time (days)',fontsize=20)\n",
    "ax1.tick_params('y', colors='r')\n",
    "\n",
    "ax2 = ax1.twinx()\n",
    "ax2.plot(x,y,'b',label=r\"$\\frac{d}{dt} (S'_v)^2$\")\n",
    "ax2.set_ylabel('$(g/kg)^{2} m^{3}s^{-1}$', color='b',fontsize=20)\n",
    "ax2.tick_params('y', colors='b')\n",
    "plt.legend=fig.legend(loc=1,bbox_to_anchor=(0.2,0.875),prop={'size': 12.5})\n",
    "plt.show()\n"
   ]
  },
  {
   "cell_type": "code",
   "execution_count": null,
   "metadata": {},
   "outputs": [],
   "source": [
    "#River Discharge Data\n",
    "import csv\n",
    "file=open('River Discharge1.csv','r')\n",
    "Date = []\n",
    "Time = []\n",
    "Datetime=[]\n",
    "AransasUs = [] #Imperial Units\n",
    "AransasMet = [] #Metric Units\n",
    "MissionUs = []\n",
    "MissionMet = []\n",
    "CombinedFlow=[] #Discharge of both rivers in metric\n",
    "\n",
    "for line in file.readlines()[1:]:\n",
    "    line = line.split(',')\n",
    "    Date.append(line[0])\n",
    "    Time.append(line[1])\n",
    "    Datetime.append(line[2])\n",
    "    AransasUs.append(line[3]) \n",
    "    AransasMet.append(line[4]) \n",
    "    MissionUs.append(line[5])\n",
    "    MissionMet.append(line[6])\n",
    "    CombinedFlow.append(line[7])\n",
    "Newtime =[]\n",
    "for date_ele,time_ele in zip(Date[1:],Time[1:]):\n",
    "    month,day,year = date_ele.split('/')\n",
    "    hour, minute = time_ele.split(':')\n",
    "    Newtime.append(datetime.datetime(int(year),int(month),int(day),int(hour), int(minute)))\n",
    "Newtime = np.array(Newtime)"
   ]
  }
 ],
 "metadata": {
  "kernelspec": {
   "display_name": "Python 3",
   "language": "python",
   "name": "python3"
  },
  "language_info": {
   "codemirror_mode": {
    "name": "ipython",
    "version": 3
   },
   "file_extension": ".py",
   "mimetype": "text/x-python",
   "name": "python",
   "nbconvert_exporter": "python",
   "pygments_lexer": "ipython3",
   "version": "3.6.4"
  }
 },
 "nbformat": 4,
 "nbformat_minor": 2
}
