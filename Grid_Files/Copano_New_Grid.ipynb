{
 "cells": [
  {
   "cell_type": "code",
   "execution_count": 4,
   "metadata": {},
   "outputs": [],
   "source": [
    "import xarray\n",
    "import matplotlib.pyplot as plt \n",
    "import matplotlib.dates as mdates\n",
    "from netCDF4 import Dataset\n",
    "import datetime\n",
    "import numpy as np\n",
    "import netCDF4 as netcdf\n",
    "import pandas as pd\n",
    "import octant.roms as roms\n",
    "import depths\n"
   ]
  },
  {
   "cell_type": "code",
   "execution_count": 5,
   "metadata": {},
   "outputs": [],
   "source": [
    "ncgrd = Dataset('/home/dylan/copano_bay_grd_g300_new2.nc')\n",
    "Cs_w = ncgrd['Cs_w'][:]\n",
    "Cs_r = ncgrd['Cs_r'][:]\n",
    "sw = ncgrd['s_w'][:]\n",
    "sr = ncgrd['s_rho'][:]\n",
    "h = ncgrd['h'][:,:]\n",
    "hc = 0.5\n",
    "N = 20\n",
    "\n",
    "## SEE Eq. (3) on https://www.myroms.org/wiki/Vertical_S-coordinate\n",
    "zw = h[np.newaxis,:,:]*(hc*sw[:,np.newaxis,np.newaxis] + h[np.newaxis,:,:]*\\\n",
    "                        Cs_w[:,np.newaxis,np.newaxis])/(hc+h[np.newaxis,:,:])\n",
    "zr = h[np.newaxis,:,:]*(hc*sr[:,np.newaxis,np.newaxis] + h[np.newaxis,:,:]*\\\n",
    "                        Cs_r[:,np.newaxis,np.newaxis])/(hc+h[np.newaxis,:,:])"
   ]
  },
  {
   "cell_type": "code",
   "execution_count": 6,
   "metadata": {},
   "outputs": [
    {
     "data": {
      "text/plain": [
       "[<matplotlib.lines.Line2D at 0x7f20fc7b5c88>]"
      ]
     },
     "execution_count": 6,
     "metadata": {},
     "output_type": "execute_result"
    },
    {
     "data": {
      "image/png": "[encoded data removed]",
      "text/plain": [
       "<Figure size 432x288 with 1 Axes>"
      ]
     },
     "metadata": {},
     "output_type": "display_data"
    }
   ],
   "source": [
    "plt.plot(-zw[:, 40,450], '*')\n",
    "plt.plot(-zr[:, 40,450], '^')\n",
    "plt.plot([0, 20], [h[40,450], h[40,450]])"
   ]
  },
  {
   "cell_type": "code",
   "execution_count": null,
   "metadata": {},
   "outputs": [],
   "source": []
  }
 ],
 "metadata": {
  "kernelspec": {
   "display_name": "Python 3",
   "language": "python",
   "name": "python3"
  },
  "language_info": {
   "codemirror_mode": {
    "name": "ipython",
    "version": 3
   },
   "file_extension": ".py",
   "mimetype": "text/x-python",
   "name": "python",
   "nbconvert_exporter": "python",
   "pygments_lexer": "ipython3",
   "version": "3.7.3"
  }
 },
 "nbformat": 4,
 "nbformat_minor": 2
}
