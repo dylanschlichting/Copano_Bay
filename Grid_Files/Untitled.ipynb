{
 "cells": [
  {
   "cell_type": "code",
   "execution_count": 1,
   "metadata": {},
   "outputs": [],
   "source": [
    "import xarray\n",
    "import matplotlib.pyplot as plt \n",
    "import matplotlib.dates as mdates\n",
    "from netCDF4 import Dataset\n",
    "import datetime\n",
    "import numpy as np\n",
    "import netCDF4 as netcdf\n",
    "import pandas as pd\n",
    "import octant.roms as roms\n",
    "import cartopy\n",
    "import cartopy.crs as ccrs  # commonly used shorthand\n",
    "import cartopy.feature as cfeature\n",
    "from cartopy.mpl.gridliner import LONGITUDE_FORMATTER, LATITUDE_FORMATTER\n",
    "\n",
    "%matplotlib inline"
   ]
  },
  {
   "cell_type": "code",
   "execution_count": 2,
   "metadata": {},
   "outputs": [],
   "source": [
    "def make_map(fig, ax):\n",
    "    ax.set_extent(extent) #extent es la delimitacion del mapa\n",
    "    ax.coastlines(res) # la resolucion de la costa (10 m)\n",
    "    ax.add_feature(cfeature.NaturalEarthFeature(category='physical', \n",
    "                                                name='land', facecolor=cfeature.COLORS['land'],\n",
    "                                                scale=res)) #add land\n",
    "    ax.add_feature(cfeature.NaturalEarthFeature(category='physical', \n",
    "                                                name='rivers_lake_centerlines',\n",
    "                                                edgecolor=cfeature.COLORS['water'], facecolor='none',\n",
    "                                                scale=res)) #add rivers\n",
    "    ax.add_feature(cfeature.NaturalEarthFeature(category='physical', \n",
    "                                                name='lakes',\n",
    "                                                scale=res,\n",
    "                                               edgecolor='none', facecolor=cfeature.COLORS['water']))\n",
    "\n",
    "    #la grilla:\n",
    "#     gl = ax.gridlines(xlocs=[-97.3, -97.2], ylocs=np.arange(lat_bot, lat_top+1),\n",
    "#                       draw_labels=True, linewidth=0.5, color='k', linestyle=':')\n",
    "#     gl.xlabels_top = gl.ylabels_right = False\n",
    "#     gl.xformatter = LONGITUDE_FORMATTER\n",
    "#     gl.yformatter = LATITUDE_FORMATTER"
   ]
  },
  {
   "cell_type": "code",
   "execution_count": 8,
   "metadata": {},
   "outputs": [
    {
     "name": "stderr",
     "output_type": "stream",
     "text": [
      "/opt/miniconda3/lib/python3.7/site-packages/ipykernel_launcher.py:3: FutureWarning: In xarray version 0.15 the default behaviour of `open_mfdataset`\n",
      "will change. To retain the existing behavior, pass\n",
      "combine='nested'. To use future default behavior, pass\n",
      "combine='by_coords'. See\n",
      "http://xarray.pydata.org/en/stable/combining.html#combining-multi\n",
      "\n",
      "  This is separate from the ipykernel package so we can avoid doing imports until\n",
      "/opt/miniconda3/lib/python3.7/site-packages/xarray/backends/api.py:931: FutureWarning: The datasets supplied have global dimension coordinates. You may want\n",
      "to use the new `combine_by_coords` function (or the\n",
      "`combine='by_coords'` option to `open_mfdataset`) to order the datasets\n",
      "before concatenation. Alternatively, to continue concatenating based\n",
      "on the order the datasets are supplied in future, please use the new\n",
      "`combine_nested` function (or the `combine='nested'` option to\n",
      "open_mfdataset).\n",
      "  from_openmfds=True,\n"
     ]
    },
    {
     "ename": "FileNotFoundError",
     "evalue": "[Errno 2] No such file or directory: b'/home/dylan/Grid_Files/copano_bay_grd_g300_new2.nc'",
     "output_type": "error",
     "traceback": [
      "\u001b[0;31m---------------------------------------------------------------------------\u001b[0m",
      "\u001b[0;31mFileNotFoundError\u001b[0m                         Traceback (most recent call last)",
      "\u001b[0;32m<ipython-input-8-a63cb207b092>\u001b[0m in \u001b[0;36m<module>\u001b[0;34m\u001b[0m\n\u001b[1;32m      3\u001b[0m \u001b[0mds\u001b[0m \u001b[0;34m=\u001b[0m \u001b[0mxarray\u001b[0m\u001b[0;34m.\u001b[0m\u001b[0mopen_mfdataset\u001b[0m\u001b[0;34m(\u001b[0m\u001b[0mncfiles2010\u001b[0m\u001b[0;34m)\u001b[0m\u001b[0;34m\u001b[0m\u001b[0;34m\u001b[0m\u001b[0m\n\u001b[1;32m      4\u001b[0m \u001b[0;34m\u001b[0m\u001b[0m\n\u001b[0;32m----> 5\u001b[0;31m \u001b[0mncgrd\u001b[0m \u001b[0;34m=\u001b[0m \u001b[0mDataset\u001b[0m\u001b[0;34m(\u001b[0m\u001b[0;34m'/home/dylan/Grid_Files/copano_bay_grd_g300_new2.nc'\u001b[0m\u001b[0;34m)\u001b[0m\u001b[0;34m\u001b[0m\u001b[0;34m\u001b[0m\u001b[0m\n\u001b[0m\u001b[1;32m      6\u001b[0m \u001b[0mCs_w\u001b[0m \u001b[0;34m=\u001b[0m \u001b[0mncgrd\u001b[0m\u001b[0;34m[\u001b[0m\u001b[0;34m'Cs_w'\u001b[0m\u001b[0;34m]\u001b[0m\u001b[0;34m[\u001b[0m\u001b[0;34m:\u001b[0m\u001b[0;34m]\u001b[0m\u001b[0;34m\u001b[0m\u001b[0;34m\u001b[0m\u001b[0m\n\u001b[1;32m      7\u001b[0m \u001b[0mCs_r\u001b[0m \u001b[0;34m=\u001b[0m \u001b[0mncgrd\u001b[0m\u001b[0;34m[\u001b[0m\u001b[0;34m'Cs_r'\u001b[0m\u001b[0;34m]\u001b[0m\u001b[0;34m[\u001b[0m\u001b[0;34m:\u001b[0m\u001b[0;34m]\u001b[0m\u001b[0;34m\u001b[0m\u001b[0;34m\u001b[0m\u001b[0m\n",
      "\u001b[0;32mnetCDF4/_netCDF4.pyx\u001b[0m in \u001b[0;36mnetCDF4._netCDF4.Dataset.__init__\u001b[0;34m()\u001b[0m\n",
      "\u001b[0;32mnetCDF4/_netCDF4.pyx\u001b[0m in \u001b[0;36mnetCDF4._netCDF4._ensure_nc_success\u001b[0;34m()\u001b[0m\n",
      "\u001b[0;31mFileNotFoundError\u001b[0m: [Errno 2] No such file or directory: b'/home/dylan/Grid_Files/copano_bay_grd_g300_new2.nc'"
     ]
    }
   ],
   "source": [
    "ncfiles2010 = ['/d2/copano_bay/2015_n/jan_2015/output_jan_2015.nc']\n",
    "\n",
    "ds = xarray.open_mfdataset(ncfiles2010)\n",
    "\n",
    "#ncgrd = Dataset('/home/dylan/Grid_Files/copano_bay_grd_g300_new2.nc') #Change for yourself \n",
    "Cs_w = ncgrd['Cs_w'][:]\n",
    "Cs_r = ncgrd['Cs_r'][:]\n",
    "sw = ncgrd['s_w'][:]\n",
    "sr = ncgrd['s_rho'][:]\n",
    "h = ncgrd['h'][:,:]\n",
    "hc = 0.5\n",
    "N = 20"
   ]
  },
  {
   "cell_type": "code",
   "execution_count": 4,
   "metadata": {},
   "outputs": [],
   "source": [
    "lat_top=28.218\n",
    "lat_bot=28\n",
    "lon_left=-97.22\n",
    "lon_rigth=-97.00\n",
    "res=\"10m\"\n",
    "[-97.22, -98.215, 28., 28.215]\n",
    "\n",
    "lon_0 = (lon_left+lon_rigth)*0.5\n",
    "\n",
    "extent=[lon_left, lon_rigth, lat_bot, lat_top]\n",
    "\n",
    "p = ccrs.PlateCarree(central_longitude=lon_0) #Projection"
   ]
  },
  {
   "cell_type": "code",
   "execution_count": 9,
   "metadata": {},
   "outputs": [
    {
     "ename": "NameError",
     "evalue": "name 'ncgrd' is not defined",
     "output_type": "error",
     "traceback": [
      "\u001b[0;31m---------------------------------------------------------------------------\u001b[0m",
      "\u001b[0;31mNameError\u001b[0m                                 Traceback (most recent call last)",
      "\u001b[0;32m<ipython-input-9-fac71e26b627>\u001b[0m in \u001b[0;36m<module>\u001b[0;34m\u001b[0m\n\u001b[1;32m      2\u001b[0m \u001b[0max\u001b[0m \u001b[0;34m=\u001b[0m \u001b[0mfig\u001b[0m\u001b[0;34m.\u001b[0m\u001b[0madd_subplot\u001b[0m\u001b[0;34m(\u001b[0m\u001b[0;36m111\u001b[0m\u001b[0;34m,\u001b[0m \u001b[0mprojection\u001b[0m\u001b[0;34m=\u001b[0m\u001b[0mp\u001b[0m\u001b[0;34m)\u001b[0m \u001b[0;31m#p es la proyeccion\u001b[0m\u001b[0;34m\u001b[0m\u001b[0;34m\u001b[0m\u001b[0m\n\u001b[1;32m      3\u001b[0m \u001b[0mmake_map\u001b[0m\u001b[0;34m(\u001b[0m\u001b[0mfig\u001b[0m\u001b[0;34m,\u001b[0m \u001b[0max\u001b[0m\u001b[0;34m)\u001b[0m\u001b[0;34m\u001b[0m\u001b[0;34m\u001b[0m\u001b[0m\n\u001b[0;32m----> 4\u001b[0;31m \u001b[0max\u001b[0m\u001b[0;34m.\u001b[0m\u001b[0mpcolormesh\u001b[0m\u001b[0;34m(\u001b[0m\u001b[0mncgrd\u001b[0m\u001b[0;34m[\u001b[0m\u001b[0;34m'lon_rho'\u001b[0m\u001b[0;34m]\u001b[0m\u001b[0;34m,\u001b[0m \u001b[0mncgrd\u001b[0m\u001b[0;34m[\u001b[0m\u001b[0;34m'lat_rho'\u001b[0m\u001b[0;34m]\u001b[0m\u001b[0;34m,\u001b[0m \u001b[0mncgrd\u001b[0m\u001b[0;34m[\u001b[0m\u001b[0;34m'h'\u001b[0m\u001b[0;34m]\u001b[0m\u001b[0;34m,\u001b[0m \u001b[0mtransform\u001b[0m\u001b[0;34m=\u001b[0m\u001b[0mccrs\u001b[0m\u001b[0;34m.\u001b[0m\u001b[0mPlateCarree\u001b[0m\u001b[0;34m(\u001b[0m\u001b[0;34m)\u001b[0m\u001b[0;34m)\u001b[0m\u001b[0;34m\u001b[0m\u001b[0;34m\u001b[0m\u001b[0m\n\u001b[0m\u001b[1;32m      5\u001b[0m \u001b[0mcbar\u001b[0m\u001b[0;34m=\u001b[0m\u001b[0mplt\u001b[0m\u001b[0;34m.\u001b[0m\u001b[0mcolorbar\u001b[0m\u001b[0;34m(\u001b[0m\u001b[0max\u001b[0m\u001b[0;34m.\u001b[0m\u001b[0mpcolormesh\u001b[0m\u001b[0;34m(\u001b[0m\u001b[0mncgrd\u001b[0m\u001b[0;34m[\u001b[0m\u001b[0;34m'lon_rho'\u001b[0m\u001b[0;34m]\u001b[0m\u001b[0;34m,\u001b[0m \u001b[0mncgrd\u001b[0m\u001b[0;34m[\u001b[0m\u001b[0;34m'lat_rho'\u001b[0m\u001b[0;34m]\u001b[0m\u001b[0;34m,\u001b[0m \u001b[0mncgrd\u001b[0m\u001b[0;34m[\u001b[0m\u001b[0;34m'h'\u001b[0m\u001b[0;34m]\u001b[0m\u001b[0;34m,\u001b[0m \u001b[0mtransform\u001b[0m\u001b[0;34m=\u001b[0m\u001b[0mccrs\u001b[0m\u001b[0;34m.\u001b[0m\u001b[0mPlateCarree\u001b[0m\u001b[0;34m(\u001b[0m\u001b[0;34m)\u001b[0m\u001b[0;34m)\u001b[0m\u001b[0;34m)\u001b[0m\u001b[0;34m\u001b[0m\u001b[0;34m\u001b[0m\u001b[0m\n\u001b[1;32m      6\u001b[0m \u001b[0;31m# cbar.set_label('g/kg')\u001b[0m\u001b[0;34m\u001b[0m\u001b[0;34m\u001b[0m\u001b[0;34m\u001b[0m\u001b[0m\n",
      "\u001b[0;31mNameError\u001b[0m: name 'ncgrd' is not defined"
     ]
    },
    {
     "data": {
      "image/png": "[encoded data removed]",
      "text/plain": [
       "<Figure size 1000x600 with 1 Axes>"
      ]
     },
     "metadata": {
      "needs_background": "light"
     },
     "output_type": "display_data"
    }
   ],
   "source": [
    "fig = plt.figure(figsize=(10,6), dpi = 100) #tamaño de la figura\n",
    "ax = fig.add_subplot(111, projection=p) #p es la proyeccion\n",
    "make_map(fig, ax)\n",
    "ax.pcolormesh(ncgrd['lon_rho'], ncgrd['lat_rho'], ncgrd['h'], transform=ccrs.PlateCarree())\n",
    "cbar=plt.colorbar(ax.pcolormesh(ncgrd['lon_rho'], ncgrd['lat_rho'], ncgrd['h'], transform=ccrs.PlateCarree()))\n",
    "# cbar.set_label('g/kg')\n",
    "for i in range(0, ds['x_psi'].shape[1], 20):\n",
    "    for j in range(0,ds['x_psi'].shape[0], 20):\n",
    "        ax.plot(ncgrd['lon_psi'][::20,i], ncgrd['lat_psi'][::20,i], '-k', lw=0.1, transform=ccrs.PlateCarree())\n",
    "        ax.plot(ncgrd['lon_psi'][j,::20], ncgrd['lat_psi'][j,::20], '-k', lw=0.1, transform=ccrs.PlateCarree())\n",
    "for item in ([ax.title, ax.xaxis.label, ax.yaxis.label] +\n",
    "             ax.get_xticklabels() + ax.get_yticklabels()):\n",
    "    item.set_fontsize(18)"
   ]
  }
 ],
 "metadata": {
  "kernelspec": {
   "display_name": "Python 3",
   "language": "python",
   "name": "python3"
  },
  "language_info": {
   "codemirror_mode": {
    "name": "ipython",
    "version": 3
   },
   "file_extension": ".py",
   "mimetype": "text/x-python",
   "name": "python",
   "nbconvert_exporter": "python",
   "pygments_lexer": "ipython3",
   "version": "3.7.3"
  }
 },
 "nbformat": 4,
 "nbformat_minor": 2
}
