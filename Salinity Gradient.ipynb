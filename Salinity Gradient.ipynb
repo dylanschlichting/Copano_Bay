{
 "cells": [
  {
   "cell_type": "markdown",
   "metadata": {
    "toc": true
   },
   "source": [
    "<h1>Table of Contents<span class=\"tocSkip\"></span></h1>\n",
    "<div class=\"toc\"><ul class=\"toc-item\"></ul></div>"
   ]
  },
  {
   "cell_type": "code",
   "execution_count": 1,
   "metadata": {},
   "outputs": [],
   "source": [
    "import xarray\n",
    "import matplotlib\n",
    "matplotlib.use('Agg')\n",
    "import matplotlib.pyplot as plt \n",
    "from netCDF4 import Dataset\n",
    "import numpy as np\n",
    "import netCDF4 as netcdf\n",
    "import pandas as pd\n",
    "import octant.roms \n",
    "import glob\n",
    "import cartopy\n",
    "import cartopy.crs as ccrs  # commonly used shorthand\n",
    "import cartopy.feature as cfeature\n",
    "from cartopy.mpl.gridliner import LONGITUDE_FORMATTER, LATITUDE_FORMATTER\n",
    "import calendar\n",
    "%matplotlib inline"
   ]
  },
  {
   "cell_type": "code",
   "execution_count": 3,
   "metadata": {},
   "outputs": [],
   "source": [
    "ncfiles_all = ['/d2/copano_bay/2010_n/jan_2010/output_jan_2010.nc',\n",
    "           '/d2/copano_bay/2010_n/feb_2010/output_feb_2010.nc',\n",
    "           '/d2/copano_bay/2010_n/march_2010/output_march_2010.nc',\n",
    "           '/d2/copano_bay/2010_n/april_2010/output_april_2010.nc',\n",
    "           '/d2/copano_bay/2010_n/may_2010/output_may_2010.nc',\n",
    "           '/d2/copano_bay/2010_n/june_2010/output_june_2010.nc',\n",
    "           '/d2/copano_bay/2010_n/july_2010/output_july_2010.nc',\n",
    "           '/d2/copano_bay/2010_n/aug_2010/output_aug_2010.nc',\n",
    "           '/d2/copano_bay/2010_n/sep_2010/output_sep_2010.nc',\n",
    "           '/d2/copano_bay/2010_n/oct_2010/output_oct_2010.nc',\n",
    "           '/d2/copano_bay/2010_n/nov_2010/output_nov_2010.nc',\n",
    "           '/d2/copano_bay/2010_n/dec_2010/output_dec_2010.nc',\n",
    "           '/d2/copano_bay/2011_n/jan_2011/output_jan_2011.nc',\n",
    "           '/d2/copano_bay/2011_n/feb_2011/output_feb_2011.nc',\n",
    "           '/d2/copano_bay/2011_n/march_2011/output_march_2011.nc',\n",
    "           '/d2/copano_bay/2011_n/april_2011/output_april_2011.nc',\n",
    "           '/d2/copano_bay/2011_n/may_2011/output_may_2011.nc',\n",
    "           '/d2/copano_bay/2011_n/june_2011/output_june_2011.nc',\n",
    "           '/d2/copano_bay/2011_n/july_2011/output_july_2011.nc',\n",
    "           '/d2/copano_bay/2011_n/aug_2011/output_aug_2011.nc',\n",
    "           '/d2/copano_bay/2011_n/sep_2011/output_sep_2011.nc',\n",
    "           '/d2/copano_bay/2011_n/oct_2011/output_oct_2011.nc',\n",
    "           '/d2/copano_bay/2011_n/nov_2011/output_nov_2011.nc',\n",
    "           '/d2/copano_bay/2011_n/dec_2011/output_dec_2011.nc',\n",
    "           '/d2/copano_bay/2012_n/jan_2012/output_jan_2012.nc',\n",
    "           '/d2/copano_bay/2012_n/feb_2012/output_feb_2012.nc',\n",
    "           '/d2/copano_bay/2012_n/march_2012/output_march_2012.nc',\n",
    "           '/d2/copano_bay/2012_n/april_2012/output_april_2012.nc',\n",
    "           '/d2/copano_bay/2012_n/may_2012/output_may_2012.nc',\n",
    "           '/d2/copano_bay/2012_n/june_2012/output_june_2012.nc',\n",
    "           '/d2/copano_bay/2012_n/july_2012/output_july_2012.nc',\n",
    "           '/d2/copano_bay/2012_n/aug_2012/output_aug_2012.nc',\n",
    "           '/d2/copano_bay/2012_n/sep_2012/output_sep_2012.nc',\n",
    "           '/d2/copano_bay/2012_n/oct_2012/output_oct_2012.nc',\n",
    "           '/d2/copano_bay/2012_n/nov_2012/output_nov_2012.nc',\n",
    "           '/d2/copano_bay/2012_n/dec_2012/output_dec_2012.nc',\n",
    "           '/d2/copano_bay/2013_n/jan_2013/output_jan_2013.nc',\n",
    "           '/d2/copano_bay/2013_n/feb_2013/output_feb_2013.nc',\n",
    "           '/d2/copano_bay/2013_n/march_2013/output_march_2013.nc',\n",
    "           '/d2/copano_bay/2013_n/april_2013/output_april_2013.nc',\n",
    "           '/d2/copano_bay/2013_n/may_2013/output_may_2013.nc',\n",
    "           '/d2/copano_bay/2013_n/june_2013/output_june_2013.nc',\n",
    "           '/d2/copano_bay/2013_n/july_2013/output_july_2013.nc',\n",
    "           '/d2/copano_bay/2013_n/aug_2013/output_aug_2013.nc',\n",
    "           '/d2/copano_bay/2013_n/sep_2013/output_sep_2013.nc',\n",
    "           '/d2/copano_bay/2013_n/oct_2013/output_oct_2013.nc',\n",
    "           '/d2/copano_bay/2013_n/nov_2013/output_nov_2013.nc',\n",
    "           '/d2/copano_bay/2013_n/dec_2013/output_dec_2013.nc',\n",
    "           '/d2/copano_bay/2014_n/jan_2014/output_jan_2014.nc',\n",
    "           '/d2/copano_bay/2014_n/feb_2014/output_feb_2014.nc',\n",
    "           '/d2/copano_bay/2014_n/march_2014/output_march_2014.nc',\n",
    "           '/d2/copano_bay/2014_n/april_2014/output_april_2014.nc',\n",
    "           '/d2/copano_bay/2014_n/may_2014/output_may_2014.nc',\n",
    "           '/d2/copano_bay/2014_n/june_2014/output_june_2014.nc',\n",
    "           '/d2/copano_bay/2014_n/july_2014/output_july_2014.nc',\n",
    "           '/d2/copano_bay/2014_n/aug_2014/output_aug_2014.nc',\n",
    "           '/d2/copano_bay/2014_n/sep_2014/output_sep_2014.nc',\n",
    "           '/d2/copano_bay/2014_n/oct_2014/output_oct_2014.nc',\n",
    "           '/d2/copano_bay/2014_n/nov_2014/output_nov_2014.nc',\n",
    "           '/d2/copano_bay/2014_n/dec_2014/output_dec_2014.nc',\n",
    "           '/d2/copano_bay/2015_n/jan_2015/output_jan_2015.nc',\n",
    "           '/d2/copano_bay/2015_n/feb_2015/output_feb_2015.nc',\n",
    "           '/d2/copano_bay/2015_n/march_2015/output_march_2015.nc',\n",
    "           '/d2/copano_bay/2015_n/april_2015/output_april_2015.nc',\n",
    "           '/d2/copano_bay/2015_n/may_2015/output_may_2015.nc',\n",
    "           '/d2/copano_bay/2015_n/june_2015/output_june_2015.nc',\n",
    "           '/d2/copano_bay/2015_n/july_2015/output_july_2015.nc',\n",
    "           '/d2/copano_bay/2015_n/aug_2015/output_aug_2015.nc',\n",
    "           '/d2/copano_bay/2015_n/sep_2015/output_sep_2015.nc',\n",
    "           '/d2/copano_bay/2015_n/oct_2015/output_oct_2015.nc',\n",
    "           '/d2/copano_bay/2015_n/nov_2015/output_nov_2015.nc',\n",
    "           '/d2/copano_bay/2015_n/dec_2015/output_dec_2015.nc',]\n",
    "\n",
    "nc = netcdf.MFDataset(['/d2/copano_bay/2010_n/jan_2010/output_jan_2010.nc',\n",
    "           '/d2/copano_bay/2010_n/feb_2010/output_feb_2010.nc',\n",
    "           '/d2/copano_bay/2010_n/march_2010/output_march_2010.nc',\n",
    "           '/d2/copano_bay/2010_n/april_2010/output_april_2010.nc',\n",
    "           '/d2/copano_bay/2010_n/may_2010/output_may_2010.nc',\n",
    "           '/d2/copano_bay/2010_n/june_2010/output_june_2010.nc',\n",
    "           '/d2/copano_bay/2010_n/july_2010/output_july_2010.nc',\n",
    "           '/d2/copano_bay/2010_n/aug_2010/output_aug_2010.nc',\n",
    "           '/d2/copano_bay/2010_n/sep_2010/output_sep_2010.nc',\n",
    "           '/d2/copano_bay/2010_n/oct_2010/output_oct_2010.nc',\n",
    "           '/d2/copano_bay/2010_n/nov_2010/output_nov_2010.nc',\n",
    "           '/d2/copano_bay/2010_n/dec_2010/output_dec_2010.nc',\n",
    "           '/d2/copano_bay/2011_n/jan_2011/output_jan_2011.nc',\n",
    "           '/d2/copano_bay/2011_n/feb_2011/output_feb_2011.nc',\n",
    "           '/d2/copano_bay/2011_n/march_2011/output_march_2011.nc',\n",
    "           '/d2/copano_bay/2011_n/april_2011/output_april_2011.nc',\n",
    "           '/d2/copano_bay/2011_n/may_2011/output_may_2011.nc',\n",
    "           '/d2/copano_bay/2011_n/june_2011/output_june_2011.nc',\n",
    "           '/d2/copano_bay/2011_n/july_2011/output_july_2011.nc',\n",
    "           '/d2/copano_bay/2011_n/aug_2011/output_aug_2011.nc',\n",
    "           '/d2/copano_bay/2011_n/sep_2011/output_sep_2011.nc',\n",
    "           '/d2/copano_bay/2011_n/oct_2011/output_oct_2011.nc',\n",
    "           '/d2/copano_bay/2011_n/nov_2011/output_nov_2011.nc',\n",
    "           '/d2/copano_bay/2011_n/dec_2011/output_dec_2011.nc',\n",
    "           '/d2/copano_bay/2012_n/jan_2012/output_jan_2012.nc',\n",
    "           '/d2/copano_bay/2012_n/feb_2012/output_feb_2012.nc',\n",
    "           '/d2/copano_bay/2012_n/march_2012/output_march_2012.nc',\n",
    "           '/d2/copano_bay/2012_n/april_2012/output_april_2012.nc',\n",
    "           '/d2/copano_bay/2012_n/may_2012/output_may_2012.nc',\n",
    "           '/d2/copano_bay/2012_n/june_2012/output_june_2012.nc',\n",
    "           '/d2/copano_bay/2012_n/july_2012/output_july_2012.nc',\n",
    "           '/d2/copano_bay/2012_n/aug_2012/output_aug_2012.nc',\n",
    "           '/d2/copano_bay/2012_n/sep_2012/output_sep_2012.nc',\n",
    "           '/d2/copano_bay/2012_n/oct_2012/output_oct_2012.nc',\n",
    "           '/d2/copano_bay/2012_n/nov_2012/output_nov_2012.nc',\n",
    "           '/d2/copano_bay/2012_n/dec_2012/output_dec_2012.nc',\n",
    "           '/d2/copano_bay/2013_n/jan_2013/output_jan_2013.nc',\n",
    "           '/d2/copano_bay/2013_n/feb_2013/output_feb_2013.nc',\n",
    "           '/d2/copano_bay/2013_n/march_2013/output_march_2013.nc',\n",
    "           '/d2/copano_bay/2013_n/april_2013/output_april_2013.nc',\n",
    "           '/d2/copano_bay/2013_n/may_2013/output_may_2013.nc',\n",
    "           '/d2/copano_bay/2013_n/june_2013/output_june_2013.nc',\n",
    "           '/d2/copano_bay/2013_n/july_2013/output_july_2013.nc',\n",
    "           '/d2/copano_bay/2013_n/aug_2013/output_aug_2013.nc',\n",
    "           '/d2/copano_bay/2013_n/sep_2013/output_sep_2013.nc',\n",
    "           '/d2/copano_bay/2013_n/oct_2013/output_oct_2013.nc',\n",
    "           '/d2/copano_bay/2013_n/nov_2013/output_nov_2013.nc',\n",
    "           '/d2/copano_bay/2013_n/dec_2013/output_dec_2013.nc',\n",
    "           '/d2/copano_bay/2014_n/jan_2014/output_jan_2014.nc',\n",
    "           '/d2/copano_bay/2014_n/feb_2014/output_feb_2014.nc',\n",
    "           '/d2/copano_bay/2014_n/march_2014/output_march_2014.nc',\n",
    "           '/d2/copano_bay/2014_n/april_2014/output_april_2014.nc',\n",
    "           '/d2/copano_bay/2014_n/may_2014/output_may_2014.nc',\n",
    "           '/d2/copano_bay/2014_n/june_2014/output_june_2014.nc',\n",
    "           '/d2/copano_bay/2014_n/july_2014/output_july_2014.nc',\n",
    "           '/d2/copano_bay/2014_n/aug_2014/output_aug_2014.nc',\n",
    "           '/d2/copano_bay/2014_n/sep_2014/output_sep_2014.nc',\n",
    "           '/d2/copano_bay/2014_n/oct_2014/output_oct_2014.nc',\n",
    "           '/d2/copano_bay/2014_n/nov_2014/output_nov_2014.nc',\n",
    "           '/d2/copano_bay/2014_n/dec_2014/output_dec_2014.nc',\n",
    "           '/d2/copano_bay/2015_n/jan_2015/output_jan_2015.nc',\n",
    "           '/d2/copano_bay/2015_n/feb_2015/output_feb_2015.nc',\n",
    "           '/d2/copano_bay/2015_n/march_2015/output_march_2015.nc',\n",
    "           '/d2/copano_bay/2015_n/april_2015/output_april_2015.nc',\n",
    "           '/d2/copano_bay/2015_n/may_2015/output_may_2015.nc',\n",
    "           '/d2/copano_bay/2015_n/june_2015/output_june_2015.nc',\n",
    "           '/d2/copano_bay/2015_n/july_2015/output_july_2015.nc',\n",
    "           '/d2/copano_bay/2015_n/aug_2015/output_aug_2015.nc',\n",
    "           '/d2/copano_bay/2015_n/sep_2015/output_sep_2015.nc',\n",
    "           '/d2/copano_bay/2015_n/oct_2015/output_oct_2015.nc',\n",
    "           '/d2/copano_bay/2015_n/nov_2015/output_nov_2015.nc',\n",
    "           '/d2/copano_bay/2015_n/dec_2015/output_dec_2015.nc'])\n",
    "\n",
    "# ds = xarray.open_mfdataset(ncfiles_all)\n",
    "ncgrd = Dataset('/home/dylan/Grid_Files/copano_bay_grd_g300_new2.nc')\n",
    "h = ncgrd['h']"
   ]
  },
  {
   "cell_type": "code",
   "execution_count": null,
   "metadata": {},
   "outputs": [],
   "source": [
    "ncgrd = Dataset('/home/dylan/copano_bay_grd_g300_new2.nc')\n",
    "h = ncgrd['h']\n",
    "# def get_dsdz(filename):\n",
    "#     ds = xarray.open_dataset(filename)\n",
    "#     return (((ds['salt'][:,0,:,:]-ds['salt'][:,-1,:,:])/h).mean(axis = 0))\n",
    "# path = '/home/dylan/monthly_dsdz/'\n",
    "# for filename in ncfiles_all[:]:\n",
    "#     dsdz = get_dsdz(filename)\n",
    "#     dsdz.to_netcdf(path+'dsdz_'+filename[-11:])"
   ]
  },
  {
   "cell_type": "code",
   "execution_count": 4,
   "metadata": {},
   "outputs": [],
   "source": [
    "lat_top=28.25\n",
    "lat_bot=28.05\n",
    "lon_left=-97.25\n",
    "lon_rigth=-96.95\n",
    "res=\"10m\" \n",
    "xlocs = [-97.25, -97.20, -97.15, -97.10, -97.05, -97.0, -96.95]\n",
    "ylocs = [ 28.05, 28.10, 28.15, 28.20, 28.25]\n",
    "\n",
    "lon_0 = (lon_left+lon_rigth)*0.5\n",
    "# facecolor='slategrey'\n",
    "extent=[lon_left, lon_rigth, lat_bot, lat_top]\n",
    "\n",
    "p = ccrs.PlateCarree(central_longitude=lon_0)\n",
    "def make_map(fig, ax, xlocs, ylocs):\n",
    "    ax.set_extent(extent) #extent es la delimitacion del mapa\n",
    "#     ax.coastlines(res) # la resolucion de la costa (10 m)\n",
    "    ax.add_feature(cfeature.NaturalEarthFeature(category='physical', name='land', facecolor='slategrey', scale=res)) #add land\n",
    "#     ax.add_feature(cfeature.NaturalEarthFeature(category='physical', \n",
    "#                                                 name='rivers_lake_centerlines',\n",
    "#                                                 edgecolor=cfeature.COLORS['water'], facecolor='none',\n",
    "#                                                 scale=res)) #add rivers\n",
    "#     ax.add_feature(cfeature.NaturalEarthFeature(category='physical', name='lakes', scale=res, edgecolor='none', facecolor=cfeature.COLORS['water']))\n",
    "\n",
    "    #la grilla:\n",
    "    gl = ax.gridlines(xlocs=xlocs, ylocs=ylocs,\n",
    "                      draw_labels=True, linewidth=0.5, color='k', linestyle=':')\n",
    "    gl.xlabels_top = gl.ylabels_right = False\n",
    "    gl.xformatter = LONGITUDE_FORMATTER\n",
    "    gl.yformatter = LATITUDE_FORMATTER"
   ]
  },
  {
   "cell_type": "code",
   "execution_count": 7,
   "metadata": {},
   "outputs": [
    {
     "ename": "TypeError",
     "evalue": "int() argument must be a string, a bytes-like object or a number, not 'list'",
     "output_type": "error",
     "traceback": [
      "\u001b[0;31m---------------------------------------------------------------------------\u001b[0m",
      "\u001b[0;31mTypeError\u001b[0m                                 Traceback (most recent call last)",
      "\u001b[0;32m<ipython-input-7-405e079ac6a6>\u001b[0m in \u001b[0;36m<module>\u001b[0;34m()\u001b[0m\n\u001b[1;32m     15\u001b[0m     \u001b[0max\u001b[0m\u001b[0;34m.\u001b[0m\u001b[0mset_xlabel\u001b[0m\u001b[0;34m(\u001b[0m\u001b[0;34m'Longitude'\u001b[0m\u001b[0;34m)\u001b[0m\u001b[0;34m\u001b[0m\u001b[0m\n\u001b[1;32m     16\u001b[0m     \u001b[0max\u001b[0m\u001b[0;34m.\u001b[0m\u001b[0mset_ylabel\u001b[0m\u001b[0;34m(\u001b[0m\u001b[0;34m'Latitude'\u001b[0m\u001b[0;34m)\u001b[0m\u001b[0;34m\u001b[0m\u001b[0m\n\u001b[0;32m---> 17\u001b[0;31m     \u001b[0max\u001b[0m\u001b[0;34m.\u001b[0m\u001b[0mtext\u001b[0m\u001b[0;34m(\u001b[0m\u001b[0;34m-\u001b[0m\u001b[0;36m97.2\u001b[0m\u001b[0;34m,\u001b[0m \u001b[0;36m28.1\u001b[0m\u001b[0;34m,\u001b[0m \u001b[0mcalendar\u001b[0m\u001b[0;34m.\u001b[0m\u001b[0mmonth_name\u001b[0m\u001b[0;34m[\u001b[0m\u001b[0mint\u001b[0m\u001b[0;34m(\u001b[0m\u001b[0;34m[\u001b[0m\u001b[0mfilename\u001b[0m\u001b[0;34m[\u001b[0m\u001b[0;36m30\u001b[0m\u001b[0;34m:\u001b[0m\u001b[0;36m33\u001b[0m\u001b[0;34m]\u001b[0m\u001b[0;34m]\u001b[0m\u001b[0;34m)\u001b[0m\u001b[0;34m]\u001b[0m\u001b[0;34m,\u001b[0m \u001b[0mfontsize\u001b[0m\u001b[0;34m=\u001b[0m\u001b[0;36m12\u001b[0m \u001b[0;34m)\u001b[0m\u001b[0;34m\u001b[0m\u001b[0m\n\u001b[0m\u001b[1;32m     18\u001b[0m \u001b[0;34m\u001b[0m\u001b[0m\n\u001b[1;32m     19\u001b[0m \u001b[0;31m#     plt.savefig('/home/dylan/monthly_dsdz/Figures/dsdz_'+mnts[filename[30:33]]+filename[-8:-2]+'png')\u001b[0m\u001b[0;34m\u001b[0m\u001b[0;34m\u001b[0m\u001b[0m\n",
      "\u001b[0;31mTypeError\u001b[0m: int() argument must be a string, a bytes-like object or a number, not 'list'"
     ]
    },
    {
     "data": {
      "image/png": "[encoded data removed]",
      "text/plain": [
       "<Figure size 600x400 with 2 Axes>"
      ]
     },
     "metadata": {},
     "output_type": "display_data"
    }
   ],
   "source": [
    "path = glob.glob('/home/dylan/monthly_dsdz/dsdz*.nc')\n",
    "\n",
    "for filename in path[1:12]:\n",
    "#     dsdz = get_dsdz(filename)\n",
    "    test = xarray.open_dataarray(filename)\n",
    "    \n",
    "    fig = plt.figure(figsize=(6,4),dpi=100)\n",
    "    fig.tight_layout()\n",
    "    ax = fig.add_subplot(111, projection = p)\n",
    "    make_map(fig, ax, xlocs, ylocs)\n",
    "    ax.pcolormesh(ncgrd['lon_rho'], ncgrd['lat_rho'], test, cmap=plt.cm.get_cmap('Reds'),vmin=0, vmax=1, transform=ccrs.PlateCarree() )\n",
    "    cbar=plt.colorbar(ax.pcolormesh(ncgrd['lon_rho'], ncgrd['lat_rho'], test, cmap=plt.cm.get_cmap('Reds'), vmin=0, vmax=1, label = 'g/kg', transform=ccrs.PlateCarree() ))\n",
    "    cbar.set_label('g/kg')\n",
    "    ax.set_title(r'Vertical Salinity Gradient ($\\frac{\\partial s}{\\partial z}$)')\n",
    "    ax.set_xlabel('Longitude')\n",
    "    ax.set_ylabel('Latitude')\n",
    "    ax.text(-97.2, 28.1, calendar.month_name[int([filename[30:33]])], fontsize=12 )\n",
    "    \n",
    "#     plt.savefig('/home/dylan/monthly_dsdz/Figures/dsdz_'+mnts[filename[30:33]]+filename[-8:-2]+'png')\n",
    "#     plt.close()"
   ]
  },
  {
   "cell_type": "code",
   "execution_count": 5,
   "metadata": {},
   "outputs": [
    {
     "ename": "FileNotFoundError",
     "evalue": "[Errno 2] No such file or directory: b'/home/dylan/copano_bay_grd_g300_new2.nc'",
     "output_type": "error",
     "traceback": [
      "\u001b[0;31m---------------------------------------------------------------------------\u001b[0m",
      "\u001b[0;31mFileNotFoundError\u001b[0m                         Traceback (most recent call last)",
      "\u001b[0;32m<ipython-input-5-c6cff69197d5>\u001b[0m in \u001b[0;36m<module>\u001b[0;34m()\u001b[0m\n\u001b[1;32m      1\u001b[0m \u001b[0;31m#Grid File\u001b[0m\u001b[0;34m\u001b[0m\u001b[0;34m\u001b[0m\u001b[0m\n\u001b[0;32m----> 2\u001b[0;31m \u001b[0mncgrd\u001b[0m \u001b[0;34m=\u001b[0m \u001b[0mDataset\u001b[0m\u001b[0;34m(\u001b[0m\u001b[0;34m'/home/dylan/copano_bay_grd_g300_new2.nc'\u001b[0m\u001b[0;34m)\u001b[0m\u001b[0;34m\u001b[0m\u001b[0m\n\u001b[0m\u001b[1;32m      3\u001b[0m \u001b[0mCs_w\u001b[0m \u001b[0;34m=\u001b[0m \u001b[0mncgrd\u001b[0m\u001b[0;34m[\u001b[0m\u001b[0;34m'Cs_w'\u001b[0m\u001b[0;34m]\u001b[0m\u001b[0;34m[\u001b[0m\u001b[0;34m:\u001b[0m\u001b[0;34m]\u001b[0m\u001b[0;34m\u001b[0m\u001b[0m\n\u001b[1;32m      4\u001b[0m \u001b[0mCs_r\u001b[0m \u001b[0;34m=\u001b[0m \u001b[0mncgrd\u001b[0m\u001b[0;34m[\u001b[0m\u001b[0;34m'Cs_r'\u001b[0m\u001b[0;34m]\u001b[0m\u001b[0;34m[\u001b[0m\u001b[0;34m:\u001b[0m\u001b[0;34m]\u001b[0m\u001b[0;34m\u001b[0m\u001b[0m\n\u001b[1;32m      5\u001b[0m \u001b[0msw\u001b[0m \u001b[0;34m=\u001b[0m \u001b[0mncgrd\u001b[0m\u001b[0;34m[\u001b[0m\u001b[0;34m's_w'\u001b[0m\u001b[0;34m]\u001b[0m\u001b[0;34m[\u001b[0m\u001b[0;34m:\u001b[0m\u001b[0;34m]\u001b[0m\u001b[0;34m\u001b[0m\u001b[0m\n",
      "\u001b[0;32mnetCDF4/_netCDF4.pyx\u001b[0m in \u001b[0;36mnetCDF4._netCDF4.Dataset.__init__\u001b[0;34m()\u001b[0m\n",
      "\u001b[0;32mnetCDF4/_netCDF4.pyx\u001b[0m in \u001b[0;36mnetCDF4._netCDF4._ensure_nc_success\u001b[0;34m()\u001b[0m\n",
      "\u001b[0;31mFileNotFoundError\u001b[0m: [Errno 2] No such file or directory: b'/home/dylan/copano_bay_grd_g300_new2.nc'"
     ]
    }
   ],
   "source": [
    "#Grid File\n",
    "ncgrd = Dataset('/home/dylan/copano_bay_grd_g300_new2.nc')\n",
    "Cs_w = ncgrd['Cs_w'][:]\n",
    "Cs_r = ncgrd['Cs_r'][:]\n",
    "sw = ncgrd['s_w'][:]\n",
    "sr = ncgrd['s_rho'][:]\n",
    "h = ncgrd['h'][:,:]\n",
    "hc = 0.5\n",
    "N = 20\n"
   ]
  },
  {
   "cell_type": "markdown",
   "metadata": {},
   "source": [
    "Preliminary Info for Salinity Variance and Gradient"
   ]
  },
  {
   "cell_type": "code",
   "execution_count": null,
   "metadata": {},
   "outputs": [],
   "source": [
    "time = ds['ocean_time'][:]\n",
    "salt_bar = []\n",
    "salt_var = []\n",
    "mask = (ncgrd['lon_rho'][:,:] >= -97.125)\n",
    "dx = 1.0/ds['pm'][0].values * ~mask\n",
    "dy = 1.0/ds['pn'][0].values * ~mask\n",
    "zw = h[np.newaxis,:,:]*(hc*sw[:,np.newaxis,np.newaxis] + h[np.newaxis,:,:]*Cs_w[:,np.newaxis,np.newaxis])/(hc+h[np.newaxis,:,:], ) [0]\n",
    "dz = np.diff(zw, axis=0)*~mask\n",
    "dV = dx*dy*dz\n",
    "volume = np.sum(dx * dy * dz)\n",
    "salt_bar = []\n",
    "salt_var = []"
   ]
  },
  {
   "cell_type": "markdown",
   "metadata": {},
   "source": [
    "Salinity Variance for Half of the Bay (Depends on Mask)"
   ]
  },
  {
   "cell_type": "code",
   "execution_count": null,
   "metadata": {},
   "outputs": [],
   "source": [
    "for tidx in range(len(time)):\n",
    "    salt_east = nc['salt'][tidx,:,:,:] * ~mask\n",
    "    salt_bar.append(np.sum(salt_east * dV ) / volume)\n",
    "    salt_var.append(np.sum( (salt_east - salt_bar[tidx])**2 * dV)/volume )\n",
    "# salt_var\n",
    "\n",
    "df_new = pd.DataFrame({'salt_var': salt_var, 'gradient': np.gradient(salt_var), 'time':ds['ocean_time'][:]})\n",
    "df_new.set_index('time')\n",
    "df_new.to_csv('Salinity_Variance_Copano_West_-97125.csv')\n"
   ]
  },
  {
   "cell_type": "code",
   "execution_count": null,
   "metadata": {},
   "outputs": [],
   "source": [
    "df = pd.read_csv('Salinity_Variance_Copano_West.csv', index_col=3, parse_dates=[3])\n",
    "df1 = pd.read_csv('Salinity_Variance_Copano_East.csv', index_col=3, parse_dates=[3])\n",
    "df2 = pd.read_csv('Total River Discharge Data Final.csv', index_col=0, parse_dates=True)\n",
    "# s_west = df['salt_var'].mean()\n",
    "# s_east = df1['salt_var'].mean()\n",
    "# print(s_west)\n",
    "# print(s_east)\n",
    "# fig = plt.figure(figsize=(12, 6),dpi=300)\n",
    "# fig.tight_layout()\n",
    "# fig.subplots_adjust(hspace=.5)\n",
    "\n",
    "# ax1 = plt.subplot(2,1,1)\n",
    "# df['salt_var'].plot(color='b', label='Copano West')\n",
    "# df1['salt_var'].plot(color='k',label='Copano East')\n",
    "# ax1.set_ylabel('$(g/kg)^{2}$')\n",
    "# ax1.set_title('Salinity Variance')\n",
    "# ax1.set_xlabel('')\n",
    "# ax1.set_xlim(['2010-1-1','2016-1-1'])\n",
    "# ax1.set_ylim([0,60])\n",
    "# ax1.legend()\n",
    "\n",
    "# ax2 = plt.subplot(2,1,2)\n",
    "# ax2 = df2['ComFlow']['2010-1-1':'2015-12-31'].plot()\n",
    "# ax2.set_ylabel(' ($m^{3}s^{-1}$)')\n",
    "# ax2.set_title('River Discharge')\n",
    "# ax2.set_xlim(['2010-1-1','2016-1-1'])\n",
    "# ax2.set_xlabel('')\n",
    "\n"
   ]
  },
  {
   "cell_type": "code",
   "execution_count": null,
   "metadata": {},
   "outputs": [],
   "source": [
    "# mask = (ncgrd['lon_rho'][:,:] >= -97.1)\n",
    "fig = plt.figure(figsize=(10,5)) \n",
    "ax = fig.add_subplot(111) #p es la proyeccion\n",
    "ax.pcolormesh(ncgrd['lon_rho'], ncgrd['lat_rho'], ds['salt'][100,1,:,:]*mask)\n",
    "cbar=plt.colorbar(ax.pcolormesh(ncgrd['lon_rho'], ncgrd['lat_rho'], ds['salt'][100,1,:,:]*mask))"
   ]
  },
  {
   "cell_type": "code",
   "execution_count": null,
   "metadata": {},
   "outputs": [],
   "source": [
    "df = df.resample('10min').interpolate()\n",
    "df = df[~df.index.duplicated()] \n",
    "\n",
    "df1 = df1[~df1.index.duplicated()]\n",
    "df1 = df1.resample('10min').interpolate()\n",
    "\n",
    "\n",
    "\n",
    "# cor_west = df['salt_var'].corr( df2['ComFlow']['2010-1-1':'2015-12-1 00:00:00'])\n",
    "# cor_east = df1['salt_var'].corr( df2['ComFlow']['2010-1-1':'2015-12-1 00:00:00'])\n",
    "\n",
    "# print(cor_west**2, 'R^2 Copano West')\n",
    "# print(cor_east**2, 'R^2 Copano East')"
   ]
  },
  {
   "cell_type": "code",
   "execution_count": null,
   "metadata": {},
   "outputs": [],
   "source": [
    "df = pd.read_csv('Salinity_Variance_Copano_West.csv', index_col=3, parse_dates=[3])\n",
    "df1 = pd.read_csv('Salinity_Variance_Copano_East.csv', index_col=3, parse_dates=[3])\n",
    "df2 = pd.read_csv('Total River Discharge Data Final.csv', index_col=0, parse_dates=True)\n",
    "\n",
    "#Remove Phase Lag\n",
    "lags = np.linspace(1,100,)\n",
    "cor_west=[]\n",
    "cor_east=[]\n",
    "for lag in range(1,100):\n",
    "    dfW = df.shift(-lag)\n",
    "    dfE = df1.shift (-lag)\n",
    "    dfR = df2.shift(lag)\n",
    "    cor_west.append(dfW['salt_var'].corr( dfR['ComFlow']['2010-1-1':'2015-12-1 00:00:00']))\n",
    "    cor_east.append(dfE['salt_var'].corr( dfR['ComFlow']['2010-1-1':'2015-12-1 00:00:00']))\n",
    "cor_west = np.asarray(cor_west)\n",
    "cor_east = np.asarray(cor_east)\n",
    "cor_east.argmin()\n",
    "print(cor_west.argmin(), 'Copano West Time step to Highest R Value')\n",
    "print(cor_east.argmin(), 'Copano East Time step to Highest R Value')\n",
    "print(cor_west.min(), 'R: Copano West')\n",
    "print(cor_east.min(), 'R: Copano East')\n",
    "\n",
    "    "
   ]
  },
  {
   "cell_type": "code",
   "execution_count": null,
   "metadata": {},
   "outputs": [],
   "source": [
    "fig = plt.figure(figsize=(12, 6),dpi=300)\n",
    "fig.tight_layout()\n",
    "fig.subplots_adjust(hspace=.5)\n",
    "\n",
    "ax1 = plt.subplot(2,1,1)\n",
    "df['salt_var'].plot(color='b', label='Copano West')\n",
    "df1['salt_var'].plot(color='k',label='Copano East')\n",
    "ax1.set_ylabel('$(g/kg)^{2}$')\n",
    "ax1.set_title('Salinity Variance')\n",
    "ax1.set_xlabel('')\n",
    "ax1.set_xlim(['2010-1-1','2016-1-1'])\n",
    "ax1.set_ylim([0,60])\n",
    "ax1.legend()\n",
    "\n",
    "ax2 = plt.subplot(2,1,2)\n",
    "ax2 = df2['ComFlow']['2010-1-1':'2015-12-1'].plot()\n",
    "ax2.set_ylabel(' ($m^{3}s^{-1}$)')\n",
    "ax2.set_title('River Discharge')\n",
    "ax2.set_xlim(['2010-1-1','2016-1-1'])\n",
    "ax2.set_xlabel('')\n",
    "\n"
   ]
  },
  {
   "cell_type": "code",
   "execution_count": null,
   "metadata": {
    "scrolled": true
   },
   "outputs": [],
   "source": [
    "dfsal = pd.read_csv('Salinity_Data.csv', index_col=0, parse_dates=[0])\n",
    "\n",
    "fig = plt.figure(figsize=(12, 5),dpi=300)\n",
    "fig.tight_layout()\n",
    "fig.subplots_adjust(hspace=.5)\n",
    "\n",
    "ax1 = plt.subplot(111)\n",
    "dfsal['CopanoEast'].plot(color='b', label='CopanoEast')\n",
    "dfsal['MARSCWQ'].plot(color='k',label='MARSCWQ')\n",
    "dfsal['MARABWQ'].plot(color='m',label='MARABWQ')\n",
    "ax1.set_ylabel('$(g/kg)$')\n",
    "ax1.set_title('Salinity ')\n",
    "ax1.set_xlabel('')\n",
    "ax1.set_xlim(['2010-1-1','2016-1-1'])\n",
    "ax1.set_ylim([0,60])\n",
    "print(dfsal['CopanoEast'].mean())\n",
    "print(dfsal['MARABWQ'].mean())\n",
    "print(dfsal['MARSCWQ'].mean())"
   ]
  },
  {
   "cell_type": "markdown",
   "metadata": {},
   "source": [
    "Normalize Salinity Concentrations"
   ]
  },
  {
   "cell_type": "code",
   "execution_count": null,
   "metadata": {},
   "outputs": [],
   "source": [
    "dfsal = pd.read_csv('Salinity_Data.csv', index_col=0, parse_dates=[0])\n",
    "dfsal = dfsal['Average']\n",
    "dfsal = dfsal.replace(0,dfsal.mean())\n",
    "dfsal = dfsal['2010-1-1':'2015-12-1']\n",
    "dfsal = dfsal[~dfsal.index.duplicated()] \n",
    "dfsal = dfsal.resample('120min').interpolate()\n",
    "\n",
    "time = netcdf.num2date(nc['ocean_time'][:], nc['ocean_time'].units)\n",
    "mask = nc['mask_rho'][:]\n",
    "dx = 1.0/nc['pm'][:] * mask\n",
    "dy = 1.0/nc['pn'][:] * mask\n",
    "zw = octant.roms.nc_depths(nc, 'w')\n",
    "dz = np.diff(-zw[0], axis=0)* mask\n",
    "dV = dx*dy*dz\n",
    "volume = np.sum(dx * dy * dz) \n"
   ]
  },
  {
   "cell_type": "code",
   "execution_count": null,
   "metadata": {},
   "outputs": [],
   "source": [
    "#print(time)\n",
    "salt_bari = []\n",
    "sigma = []\n",
    "salt = []\n",
    "mask = nc['mask_rho'][:]\n",
    "dx = 1.0/nc['pm'][:] * mask\n",
    "dy = 1.0/nc['pn'][:] * mask\n",
    "time = netcdf.num2date(nc['ocean_time'][:], nc['ocean_time'].units)\n",
    "for tidx in range(len(time[:20])):\n",
    "    zw = h[np.newaxis,:,:]*(hc*sw[:,np.newaxis,np.newaxis] + h[np.newaxis,:,:]*\\\n",
    "                    Cs_w[:,np.newaxis,np.newaxis])/(hc+h[np.newaxis,:,:])\n",
    "    dz = np.diff(-zw, axis=0) * mask\n",
    "    volume = np.sum(dx * dy * dz)\n",
    "    salt = nc['salt'][tidx] * mask\n",
    "    salt_bari = np.array(np.sum(salt[:,:] * dx * dy * dz) / volume)\n",
    "    salt_bari = salt_bari.append(salt_bari)\n",
    "#     sigma = np.array((salt_bari/dfsal[tidx]) )\n",
    "#     sigma = sigma.append(sigma)\n",
    "df_new = pd.DataFrame({'salt_bari': salt_bari, 'time':time[:20]})\n",
    "df_new.set_index('time')\n",
    "df_new.to_csv('Normalized_Salinity.csv')\n",
    "    "
   ]
  },
  {
   "cell_type": "code",
   "execution_count": null,
   "metadata": {},
   "outputs": [],
   "source": [
    "salt_bari"
   ]
  },
  {
   "cell_type": "code",
   "execution_count": null,
   "metadata": {},
   "outputs": [],
   "source": [
    "def normalized_salinity(nc, tidx):\n",
    "    salt = nc['salt'][tidx,:,:,:] * mask\n",
    "    s_avg = np.sum(salt * dx * dy * dz) / volume\n",
    "    sigma = ((s_avg/dfsal[tidx]) )\n",
    "    return s_avg,sigma\n"
   ]
  },
  {
   "cell_type": "code",
   "execution_count": null,
   "metadata": {},
   "outputs": [],
   "source": [
    "salt = []\n",
    "s_avg= []\n",
    "sdbar = []\n",
    "sigma = []\n",
    "\n",
    "\n",
    "for tidx in range(len(time[:10])):\n",
    "    try:\n",
    "        sigma.append(normalized_salinity(nc, tidx))\n",
    "        s_avg.append(normalized_salinity(nc, tidx))\n",
    "    except:\n",
    "        df_new = pd.DataFrame({'sigma': sigma, 'time':time})\n",
    "        df_new.set_index('time')\n",
    "        df_new.to_csv('Normalized_Salinity.csv')\n",
    "sigma = np.nan_to_num(sigma)\n",
    "s_avg\n",
    "# df_new = pd.DataFrame({'s_avg': s_avg,'sigma': sigma, 'time':time[:10]})\n",
    "# df_new.set_index('time')\n",
    "# df_new.to_csv('Normalized_Salinity.csv')"
   ]
  },
  {
   "cell_type": "code",
   "execution_count": null,
   "metadata": {},
   "outputs": [],
   "source": [
    "len(s_avg)"
   ]
  },
  {
   "cell_type": "code",
   "execution_count": null,
   "metadata": {},
   "outputs": [],
   "source": [
    "fig = plt.figure(figsize=(8,2),dpi=300)\n",
    "fig.tight_layout()\n",
    "fig.subplots_adjust(hspace=.5)\n",
    "ax = plt.subplot(111)\n",
    "ax.plot(time[:25879],sigma,color='k')\n",
    "plt.title('Normalized Salinity')"
   ]
  },
  {
   "cell_type": "code",
   "execution_count": null,
   "metadata": {},
   "outputs": [],
   "source": [
    "sigma = np.array(sigma[1:])\n",
    "sigma.mean()"
   ]
  },
  {
   "cell_type": "code",
   "execution_count": null,
   "metadata": {},
   "outputs": [],
   "source": [
    "df = pd.read_csv('/home/dylan/Normalized_Salinity.csv', index_col=2, parse_dates=True)\n",
    "fig = plt.figure(figsize=(4,3),dpi=100)\n",
    "fig.tight_layout()\n",
    "fig.subplots_adjust(hspace=.5)\n",
    "ax = plt.subplot(111)\n",
    "df['sigma'].plot(color='b', label='Copano West')\n",
    "\n"
   ]
  },
  {
   "cell_type": "code",
   "execution_count": null,
   "metadata": {},
   "outputs": [],
   "source": [
    "len(sigma)"
   ]
  },
  {
   "cell_type": "code",
   "execution_count": null,
   "metadata": {},
   "outputs": [],
   "source": []
  }
 ],
 "metadata": {
  "kernelspec": {
   "display_name": "Python 3",
   "language": "python",
   "name": "python3"
  },
  "language_info": {
   "codemirror_mode": {
    "name": "ipython",
    "version": 3
   },
   "file_extension": ".py",
   "mimetype": "text/x-python",
   "name": "python",
   "nbconvert_exporter": "python",
   "pygments_lexer": "ipython3",
   "version": "3.7.6"
  },
  "toc": {
   "base_numbering": 1,
   "nav_menu": {},
   "number_sections": true,
   "sideBar": true,
   "skip_h1_title": false,
   "title_cell": "Table of Contents",
   "title_sidebar": "Contents",
   "toc_cell": true,
   "toc_position": {},
   "toc_section_display": true,
   "toc_window_display": true
  }
 },
 "nbformat": 4,
 "nbformat_minor": 2
}
